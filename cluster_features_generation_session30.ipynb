{
 "cells": [
  {
   "cell_type": "code",
   "execution_count": null,
   "metadata": {},
   "outputs": [],
   "source": [
    "import os\n",
    "import json\n",
    "os.chdir('C:\\\\Users\\\\Romina\\\\Desktop\\\\thesis')\n",
    "\n",
    "import datetime as dt\n",
    "from datetime import datetime, date\n",
    "import pandas as pd\n",
    "from pandas.io.json import json_normalize\n",
    "import numpy as np"
   ]
  },
  {
   "cell_type": "code",
   "execution_count": null,
   "metadata": {},
   "outputs": [],
   "source": [
    "os.getcwd()"
   ]
  },
  {
   "cell_type": "code",
   "execution_count": null,
   "metadata": {},
   "outputs": [],
   "source": [
    "data=pd.read_csv(\"final_session_30mins.csv\", low_memory=False)\n",
    "labels=pd.read_csv(\"sessionswithLables.csv\", low_memory=False)\n",
    "session_withlabel=pd.merge(data, labels[['session_no', 'distance_0']], right_on='session_no', left_on='session_no', how='left')\n",
    "session_withlabel.to_csv(\"session_withlabel.csv\")"
   ]
  },
  {
   "cell_type": "code",
   "execution_count": null,
   "metadata": {},
   "outputs": [],
   "source": [
    "data.info()\n",
    "data.head()"
   ]
  },
  {
   "cell_type": "code",
   "execution_count": null,
   "metadata": {},
   "outputs": [],
   "source": [
    "# from urllib.parse import urlparse\n",
    "# #data['http_referer_']=data['http_referer'].apply(lambda x: str(x.encode('utf-16'))\n",
    "\n",
    "\n",
    "# data['refere_domain']=data['http_referer'].apply(lambda x: urlparse(x).netloc)\n",
    "\n",
    "m = data['http_referer'].str.extract('(?<=http://)(.*?)(?=/)|(?<=https://)(.*?)(?=/)')\n",
    "m = m[0].fillna(m[1]).fillna(data['http_referer'])\n",
    "\n",
    "data['DOMAINNAME'] = m\n",
    "\n"
   ]
  },
  {
   "cell_type": "code",
   "execution_count": null,
   "metadata": {},
   "outputs": [],
   "source": [
    "import numpy as n\n",
    "data['DOMAINNAME_g'] = np.where(data['DOMAINNAME'].str.contains(\"google|yahoo|bing|duckduckgo|ask\", na=False), \"Search_engine\", data['DOMAINNAME']) \n",
    "data['DOMAINNAME_g'] = np.where(data['DOMAINNAME_g'].str.contains(\".edu|uni|lib|csiro\", na=False), \"Education\",data['DOMAINNAME_g']) \n",
    "data['DOMAINNAME_g'] = np.where(data['DOMAINNAME_g'] .str.contains(\".gov\", na=False), \"Government\",data['DOMAINNAME_g']) \n",
    "data['DOMAINNAME_g'] = np.where(data['DOMAINNAME_g'] .str.contains(\"researchdata.ands.|www.ands.\", na=False), \"ARDC\",data['DOMAINNAME_g']) \n",
    "data['DOMAINNAME_g'] = np.where(data['DOMAINNAME_g'] .str.contains(\"wikipedia.\", na=False), \"Wikipeida\",data['DOMAINNAME_g']) \n"
   ]
  },
  {
   "cell_type": "code",
   "execution_count": null,
   "metadata": {},
   "outputs": [],
   "source": [
    "len(data['DOMAINNAME'].unique())"
   ]
  },
  {
   "cell_type": "code",
   "execution_count": null,
   "metadata": {},
   "outputs": [],
   "source": [
    "a=data[['DOMAINNAME_g']]\n",
    "a=a.drop_duplicates()\n",
    "len(a)\n",
    "#a.to_csv('domains.csv')"
   ]
  },
  {
   "cell_type": "code",
   "execution_count": null,
   "metadata": {
    "scrolled": true
   },
   "outputs": [],
   "source": [
    "#data.head(30)"
   ]
  },
  {
   "cell_type": "code",
   "execution_count": null,
   "metadata": {},
   "outputs": [],
   "source": [
    "data['timestamp'] = pd.to_datetime(data['timestamp'])\n",
    "#data.head(30)\n",
    "# data['Date'] = data['timestamp'].dt.date\n",
    "# data['Time'] = data['timestamp'].dt.time"
   ]
  },
  {
   "cell_type": "code",
   "execution_count": null,
   "metadata": {},
   "outputs": [],
   "source": [
    "data['Date']= data['timestamp'].dt.date\n",
    "data['time']= data['timestamp'].dt.strftime('%H:%M:%S')"
   ]
  },
  {
   "cell_type": "code",
   "execution_count": null,
   "metadata": {},
   "outputs": [],
   "source": [
    "data['Advance_search']=data['q'].str.contains(\"AND\" or \"OR\")\n"
   ]
  },
  {
   "cell_type": "code",
   "execution_count": null,
   "metadata": {},
   "outputs": [],
   "source": [
    "def data_processor(dat):\n",
    "    dat=dat.apply(lambda x: str(x).replace(r\"[OR, AND]\", \" \"))\n",
    "    #dat=dat.apply(lambda x: str(x).lower())\n",
    "    #dat=dat.apply(lambda x: x.replace('\\d+', ''))\n",
    "    dat=dat.apply(lambda x: str(x).replace('[^\\w\\s]',\"\"))\n",
    "    dat=dat.apply(lambda x: str(x).replace(r\"[︰-＠]\", \"\"))\n",
    "    dat=dat.apply(lambda x: str(x).replace(r\"[_text_:]\", \"\"))\n",
    "    return dat"
   ]
  },
  {
   "cell_type": "code",
   "execution_count": null,
   "metadata": {},
   "outputs": [],
   "source": [
    "data['q']=data_processor(data['q'])\n",
    "data['q']=data['q'].where(~data['q'].str.isdigit())\n",
    "data[\"q\"]=data[\"q\"].replace('nan', np.NaN)\n",
    "data.info()\n",
    "data.head(50)"
   ]
  },
  {
   "cell_type": "code",
   "execution_count": null,
   "metadata": {},
   "outputs": [],
   "source": [
    "#grab all the sessions with atleast one search\n",
    "grouped = data.groupby('session_no')['ip','q'].count().reset_index()\n",
    "\n",
    "#non_abandon=grouped[(grouped['_source.user.ip'] > 1) & (grouped['_source.doc.@fields.filters.q'] > 0)]\n",
    "sessWithsearch=grouped[(grouped['q'] > 0)] #SESSIONS With atleast a search Query\n",
    "#sessWithsearch.head()\n",
    "\n",
    "sessWithsearch_dat=data[data['session_no'].isin(sessWithsearch['session_no'])].reset_index()\n",
    "sessWithsearch_dat=sessWithsearch_dat.drop(['Unnamed: 0','Unnamed: 0.1' ], axis=1)\n",
    "sessWithsearch_dat.head(30)"
   ]
  },
  {
   "cell_type": "code",
   "execution_count": null,
   "metadata": {},
   "outputs": [],
   "source": [
    "#sessWithsearch_dat.to_csv('test.csv')"
   ]
  },
  {
   "cell_type": "code",
   "execution_count": null,
   "metadata": {},
   "outputs": [],
   "source": [
    "# b=sessWithsearch_dat[sessWithsearch_dat['session_no']==495807]\n",
    "# b.to_csv(\"test2.csv\")"
   ]
  },
  {
   "cell_type": "code",
   "execution_count": null,
   "metadata": {
    "scrolled": true
   },
   "outputs": [],
   "source": [
    "#flag sessions with views (click) and those accessed portal (Go To Data Provider, Go To Service Provider))\n",
    "grouped_event = sessWithsearch_dat.groupby(['session_no','event'])['ip'].count().reset_index()\n",
    "grouped_event.head()\n",
    "\n",
    "#pivot and append to the entire data\n",
    "grouped_event_=grouped_event.pivot(index='session_no', columns='event', values='ip')\n",
    "grouped_event_=grouped_event_[['portal_search','portal_view', 'portal_accessed', 'portal_export']].reset_index()\n",
    "grouped_event_.head()\n",
    "\n",
    "grouped_event_=grouped_event_.fillna(0)\n",
    "grouped_event_.head(30)"
   ]
  },
  {
   "cell_type": "code",
   "execution_count": null,
   "metadata": {},
   "outputs": [],
   "source": [
    "import datetime\n",
    "\n",
    "#sessWithsearch_dat['Date']= sessWithsearch_dat['Date'].\n",
    "sessWithsearch_dat['time']= pd.to_datetime(sessWithsearch_dat['time'],format= '%H:%M:%S' ).dt.time\n",
    "sessWithsearch_dat.info()\n"
   ]
  },
  {
   "cell_type": "code",
   "execution_count": null,
   "metadata": {},
   "outputs": [],
   "source": [
    "#flag sessions with views (click) and those accessed portal (Go To Data Provider, Go To Service Provider))\n",
    "grouped_mintime=sessWithsearch_dat.sort_values(\"time\").groupby(\"session_no\", as_index=False).first()\n",
    "grouped_mintime=grouped_mintime[['session_no', 'DOMAINNAME_g', 'time']]\n",
    "grouped_mintime.head()\n",
    "#grouped_mintime.info()"
   ]
  },
  {
   "cell_type": "code",
   "execution_count": null,
   "metadata": {},
   "outputs": [],
   "source": [
    "grouped_maxtime=sessWithsearch_dat.groupby(['session_no'])['time'].max().reset_index().rename(columns={'time':'time_finish'})\n",
    "grouped_maxtime\n",
    "# grouped_maxtime.info()\n",
    "grouped_maxtime.tail()"
   ]
  },
  {
   "cell_type": "code",
   "execution_count": null,
   "metadata": {},
   "outputs": [],
   "source": [
    "#number of queries per session\n",
    "grouped_quer = sessWithsearch_dat.groupby(['session_no'])['q'].count().reset_index()\n",
    "#grouped_quer "
   ]
  },
  {
   "cell_type": "code",
   "execution_count": null,
   "metadata": {},
   "outputs": [],
   "source": [
    "all_words=sessWithsearch_dat[['session_no', 'q']]\n",
    "all_words=all_words.dropna(subset=['q'])\n",
    "all_words.head(30)\n",
    "all_words['q']=all_words['q'].apply(lambda x: x.split())"
   ]
  },
  {
   "cell_type": "code",
   "execution_count": null,
   "metadata": {},
   "outputs": [],
   "source": [
    "all_words.head()"
   ]
  },
  {
   "cell_type": "code",
   "execution_count": null,
   "metadata": {},
   "outputs": [],
   "source": [
    "group_words=all_words.groupby('session_no').sum().reset_index()\n",
    "group_words.info()\n",
    "\n",
    "group_words.head()"
   ]
  },
  {
   "cell_type": "code",
   "execution_count": null,
   "metadata": {},
   "outputs": [],
   "source": [
    "print(group_words)"
   ]
  },
  {
   "cell_type": "code",
   "execution_count": null,
   "metadata": {},
   "outputs": [],
   "source": [
    "group_words['q_']=group_words['q'].apply(lambda x: ' '.join(str(w) for w in x))\n",
    "# group_words=group_words['q'].apply(lambda x:x.replace('[]', ''))\n",
    "#group_words['q_']= group_words['q_'].apply(lambda x: x.replace(\"_text_:\", '' ))\n",
    "#print(group_words)"
   ]
  },
  {
   "cell_type": "code",
   "execution_count": null,
   "metadata": {},
   "outputs": [],
   "source": [
    "#group_words.info()"
   ]
  },
  {
   "cell_type": "code",
   "execution_count": null,
   "metadata": {},
   "outputs": [],
   "source": [
    "group_words['q_']=group_words['q_'].apply(lambda x: x.lower())\n",
    "group_words['no_vocab']=group_words['q_'].apply(lambda x: len(set(x.split())))\n",
    "group_words['no_word']=group_words['q_'].apply(lambda x: len(x.split()))"
   ]
  },
  {
   "cell_type": "code",
   "execution_count": null,
   "metadata": {},
   "outputs": [],
   "source": [
    "group_words.head()\n",
    "group_words.info()\n",
    "group_words['no_vocab'].max()\n",
    "a=group_words[group_words['no_vocab']>200]\n",
    "# group_words['no_vocab'].mean()\n",
    "# group_words['no_vocab'].std()"
   ]
  },
  {
   "cell_type": "code",
   "execution_count": null,
   "metadata": {},
   "outputs": [],
   "source": [
    "data_1=pd.merge(grouped_event_, grouped_mintime[['session_no', 'DOMAINNAME_g', 'time']],right_on='session_no', left_on='session_no', \n",
    "                how='left')\n"
   ]
  },
  {
   "cell_type": "code",
   "execution_count": null,
   "metadata": {},
   "outputs": [],
   "source": [
    "data_1.info()\n",
    "data_1.head()"
   ]
  },
  {
   "cell_type": "code",
   "execution_count": null,
   "metadata": {},
   "outputs": [],
   "source": [
    "data_2=pd.merge(data_1, grouped_maxtime[['session_no', 'time_finish']],right_on='session_no', left_on='session_no', \n",
    "                how='left')\n",
    "data_2.info()"
   ]
  },
  {
   "cell_type": "code",
   "execution_count": null,
   "metadata": {},
   "outputs": [],
   "source": [
    "data_2=pd.merge(data_1, grouped_maxtime[['session_no', 'time_finish']],right_on='session_no', left_on='session_no', \n",
    "                how='left')\n",
    "data_2.info()"
   ]
  },
  {
   "cell_type": "code",
   "execution_count": null,
   "metadata": {},
   "outputs": [],
   "source": [
    "data_3=pd.merge(data_2, grouped_quer[['session_no', 'q']],right_on='session_no', left_on='session_no', \n",
    "                how='left')\n",
    "data_3.info()\n"
   ]
  },
  {
   "cell_type": "code",
   "execution_count": null,
   "metadata": {},
   "outputs": [],
   "source": [
    "data_4=pd.merge(data_3, group_words[['session_no', 'no_vocab', 'no_word']],right_on='session_no', left_on='session_no', \n",
    "                how='left')\n",
    "data_4.info()\n"
   ]
  },
  {
   "cell_type": "code",
   "execution_count": null,
   "metadata": {},
   "outputs": [],
   "source": [
    "#data_4.head(50)\n",
    "#data_4['portal_accessed'].value_counts()\n",
    "#data_4['portal_export'].value_counts()"
   ]
  },
  {
   "cell_type": "code",
   "execution_count": null,
   "metadata": {},
   "outputs": [],
   "source": [
    "data_4['DOMAINNAME_g'].value_counts()"
   ]
  },
  {
   "cell_type": "code",
   "execution_count": null,
   "metadata": {},
   "outputs": [],
   "source": [
    "data_4['session_type']=np.where((data_4['DOMAINNAME_g']!='Search_engine') & (data_4['DOMAINNAME_g']!=\"ARDC\"),\n",
    "#                                 & (data_4['DOMAINNAME_g']!='Education')& (data_4['DOMAINNAME_g']!='Government'),\n",
    "                                \"Browse_other\", data_4['DOMAINNAME_g'])\n",
    "data_4['session_type'].value_counts()"
   ]
  },
  {
   "cell_type": "code",
   "execution_count": null,
   "metadata": {},
   "outputs": [],
   "source": [
    "#data_4['session_type'].value_counts()\n",
    "from datetime import timedelta, date\n",
    "data_4['time']= pd.to_timedelta(data_4['time'].astype(str))\n",
    "data_4['time_finish']=pd.to_timedelta(data_4['time_finish'].astype(str))\n",
    "\n",
    "data_4['session_len']= data_4['time_finish'] - data_4['time']\n",
    "#datetime.combine(date.today(), data_4['time_finish']) - datetime.combine(date.today(), data_4['time'])"
   ]
  },
  {
   "cell_type": "code",
   "execution_count": null,
   "metadata": {},
   "outputs": [],
   "source": [
    "dummy=pd.get_dummies(data_4['session_type'])\n",
    "dummy.info()"
   ]
  },
  {
   "cell_type": "code",
   "execution_count": null,
   "metadata": {},
   "outputs": [],
   "source": [
    "data_4['session_len_s']=data_4['session_len'].dt.seconds/60"
   ]
  },
  {
   "cell_type": "code",
   "execution_count": null,
   "metadata": {},
   "outputs": [],
   "source": [
    "data_4[['session_len', 'session_len_s']]\n",
    "data_4.info()"
   ]
  },
  {
   "cell_type": "code",
   "execution_count": null,
   "metadata": {},
   "outputs": [],
   "source": [
    "# data_4_= data_4[[#'portal_search', \n",
    "#                     'portal_view', \n",
    "#                 # 'portal_accessed', 'portal_export', \n",
    "#                  'q', 'no_vocab', 'no_word', 'session_len_s']]\n",
    "\n",
    "data_5=pd.concat([data_4, dummy], axis=1)\n",
    "data_5.info()\n",
    "data_5.head()"
   ]
  },
  {
   "cell_type": "code",
   "execution_count": null,
   "metadata": {},
   "outputs": [],
   "source": [
    "#existience of advance search in the session\n",
    "grouped_advancesearch = sessWithsearch_dat.groupby(['session_no'])['Advance_search'].max().reset_index()\n",
    "grouped_advancesearch.head()\n",
    "\n",
    "#grouped_advancesearch[grouped_advancesearch['Advance_search']==True]"
   ]
  },
  {
   "cell_type": "code",
   "execution_count": null,
   "metadata": {},
   "outputs": [],
   "source": [
    "data_6=pd.merge(data_5, grouped_advancesearch [['session_no', 'Advance_search']],right_on='session_no', left_on='session_no', \n",
    "                how='left')\n",
    "data_6.info()"
   ]
  },
  {
   "cell_type": "code",
   "execution_count": null,
   "metadata": {},
   "outputs": [],
   "source": [
    "data_6. to_csv(\"clusteringdata-session30.csv\")\n"
   ]
  },
  {
   "cell_type": "code",
   "execution_count": null,
   "metadata": {},
   "outputs": [],
   "source": [
    "data_6.describe()"
   ]
  },
  {
   "cell_type": "code",
   "execution_count": null,
   "metadata": {},
   "outputs": [],
   "source": [
    "data_vis= data_5[[#'portal_search', \n",
    "                    'portal_view', \n",
    "                # 'portal_accessed', 'portal_export', \n",
    "                 'q', 'no_vocab', 'no_word', 'session_len_s']]\n",
    "\n",
    "data_vis.info()\n",
    "\n",
    "data_vis=data_vis[data_vis['portal_view']<1]\n",
    "data_vis.info()"
   ]
  },
  {
   "cell_type": "code",
   "execution_count": null,
   "metadata": {},
   "outputs": [],
   "source": [
    "#data_5_=data_5[data_5['portal_view']>0]\n",
    "#data_5_.info()\n",
    "\n",
    "data_vis[['session_len_s']].describe()"
   ]
  },
  {
   "cell_type": "code",
   "execution_count": null,
   "metadata": {},
   "outputs": [],
   "source": [
    "# #Plot styling\n",
    "import seaborn as sns; sns.set()  # for plot styling\n",
    "%matplotlib inline\n",
    "import matplotlib.pyplot as plt\n",
    "\n",
    "# # plt.rcParams['figure.figsize'] = (16, 9)\n",
    "# # plt.style.use('ggplot')\n",
    "\n",
    "for i in range(2,5,1):\n",
    "    plt.rcParams['figure.figsize'] = (9, 5)\n",
    "    plt.style.use('ggplot')\n",
    "    #Visualizing the data - displot\n",
    "    plot_portal_search = sns.distplot(data_vis.iloc[:, i])\n",
    "#plot_portal_view = sns.distplot(data_5[\"portal_view\"])\n",
    "    plt.xlabel(data_vis.columns[i])\n",
    "    plt.show()"
   ]
  },
  {
   "cell_type": "code",
   "execution_count": null,
   "metadata": {},
   "outputs": [],
   "source": [
    "for i in range(0,5,1):\n",
    "    plt.figure(figsize=(10,8))\n",
    "    #Visualizing the data - displot\n",
    "    y=data_vis.columns[i]\n",
    "    #print(y)\n",
    "    sns.boxplot(x=data_vis[y])\n",
    "    plt.ylabel(data_vis.columns[i])\n",
    "    #plt.show()"
   ]
  },
  {
   "cell_type": "code",
   "execution_count": null,
   "metadata": {},
   "outputs": [],
   "source": [
    " from scipy.stats import pearsonr\n",
    "corr1= pearsonr(data_5['q'], data_5['session_len_s'])\n",
    "print(corr1)"
   ]
  },
  {
   "cell_type": "code",
   "execution_count": null,
   "metadata": {},
   "outputs": [],
   "source": [
    "data_5=data_5[(data_5['no_vocab']<200)& (data_5['session_len_s']<600) & (data_5['no_word']<1000) &\n",
    "              (data_5['q']<100)]\n",
    "#data_5_=data_5_[data_5_['no_vocab']<20]\n",
    "#data_5.info()\n",
    "#data_5.to_csv(\"data_5.csv\")\n",
    "\n",
    "data_5['w_v_ratio']=data_5['no_vocab']/data_5['no_word']\n",
    "data_5['q_len_ave']=data_5['no_word']/data_5['q']\n",
    "\n",
    "data_55=data_5[[#'portal_search', \n",
    "                    'portal_view', \n",
    "              # 'portal_accessed', 'portal_export', \n",
    "                 'q', \n",
    "  #  'no_vocab', 'no_word', \n",
    "    'w_v_ratio','q_len_ave',\n",
    "    'session_len_s'\n",
    "    ,'ARDC','Browse_other','Search_engine'\n",
    "]]\n"
   ]
  }
 ],
 "metadata": {
  "kernelspec": {
   "display_name": "Python 3",
   "language": "python",
   "name": "python3"
  },
  "language_info": {
   "codemirror_mode": {
    "name": "ipython",
    "version": 3
   },
   "file_extension": ".py",
   "mimetype": "text/x-python",
   "name": "python",
   "nbconvert_exporter": "python",
   "pygments_lexer": "ipython3",
   "version": "3.7.6"
  }
 },
 "nbformat": 4,
 "nbformat_minor": 4
}
