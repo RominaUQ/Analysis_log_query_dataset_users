{
 "cells": [
  {
   "cell_type": "code",
   "execution_count": null,
   "metadata": {},
   "outputs": [],
   "source": [
    "import os\n",
    "import json\n",
    "os.chdir('C:\\\\Users\\\\Romina\\\\Desktop\\\\thesis')\n",
    "\n",
    "import datetime as dt\n",
    "from datetime import datetime, date\n",
    "import pandas as pd\n",
    "from pandas.io.json import json_normalize\n",
    "import numpy as np"
   ]
  },
  {
   "cell_type": "code",
   "execution_count": null,
   "metadata": {},
   "outputs": [],
   "source": [
    "os.getcwd()"
   ]
  },
  {
   "cell_type": "code",
   "execution_count": null,
   "metadata": {},
   "outputs": [],
   "source": [
    "data=pd.read_csv(\"final_matched_data_session30.csv\", low_memory=False)"
   ]
  },
  {
   "cell_type": "code",
   "execution_count": null,
   "metadata": {},
   "outputs": [],
   "source": [
    "data.head(30)\n",
    "#data=data.astype(str)\n",
    "data.info()"
   ]
  },
  {
   "cell_type": "code",
   "execution_count": null,
   "metadata": {},
   "outputs": [],
   "source": [
    "counts=data.groupby('session_no').agg({'Result_id_0':'count',\n",
    "                           'title_id_0':'count', \n",
    "                            'final_sub0':'count'})\n",
    "counts.head(30)\n",
    "\n",
    "print(counts['title_id_0'].astype(bool).sum(axis=0))\n",
    "print(counts['final_sub0'].astype(bool).sum(axis=0))"
   ]
  },
  {
   "cell_type": "code",
   "execution_count": null,
   "metadata": {},
   "outputs": [],
   "source": [
    "data['Advance_search']=data['q'].str.contains(\"AND\" or \"OR\")\n",
    "data.head(50)"
   ]
  },
  {
   "cell_type": "code",
   "execution_count": null,
   "metadata": {},
   "outputs": [],
   "source": [
    "import numpy as np\n",
    "from scipy import spatial\n",
    "import matplotlib.pyplot as plt\n",
    "from sklearn.manifold import TSNE\n",
    "from nltk.corpus import stopwords"
   ]
  },
  {
   "cell_type": "code",
   "execution_count": null,
   "metadata": {},
   "outputs": [],
   "source": [
    "def data_processor(dat):\n",
    "    dat=dat.apply(lambda x: x.str.replace(r\"[OR, AND]\", \" \"))\n",
    "    dat=dat.apply(lambda x: x.str.lower())\n",
    "    dat=dat.apply(lambda x: x.str.replace(r\"\\d+\", \"\"))\n",
    "    dat=dat.apply(lambda x: x.str.replace('[^\\w\\s]',\"\"))\n",
    "    dat=dat.apply(lambda x: x.str.replace(r\"[︰-＠]\", \"\"))\n",
    "    dat=dat.apply(lambda x: x.str.replace(r\"[_text_:]\", \"\"))\n",
    "    #dat=dat.drop_duplicates()\n",
    "    dat=dat.drop_duplicates(subset=['q','title_id_0'])\n",
    "    #dat=dat.replace('', np.nan)\n",
    "    #dat=dat.dropna(subset=dat)\n",
    "   # \n",
    "    return dat"
   ]
  },
  {
   "cell_type": "code",
   "execution_count": null,
   "metadata": {
    "scrolled": true
   },
   "outputs": [],
   "source": [
    "data['portal_view']=data['portal_view'].astype(float)\n",
    "#data_final.info()\n",
    "\n",
    "# sessions with click\n",
    "data_click= data[data['portal_view']>0]\n",
    "data_click=data_click[['session_no','q','title_id_0','final_sub0','final_sub1', \n",
    "                       #'final_sub2','final_sub3','final_sub4', \n",
    "                      # 'final_sub5',\n",
    "                       'title_id_2','title_id_3', 'title_id_4' ]].set_index('session_no')\n",
    "\n",
    "data_click=data_click.drop(columns=[])\n",
    "data_click.info()\n",
    "data_click.head(30)"
   ]
  },
  {
   "cell_type": "code",
   "execution_count": null,
   "metadata": {},
   "outputs": [],
   "source": [
    "data_click_cl=data_processor(data_click)\n",
    "data_click_cl.info()\n",
    "data_click_cl.head(50)"
   ]
  },
  {
   "cell_type": "code",
   "execution_count": null,
   "metadata": {},
   "outputs": [],
   "source": [
    "#data_click_cl=data_click_cl.drop_duplicates()\n",
    "data_click_cl=data_click_cl.dropna(subset=['q','title_id_0'])\n",
    "data_click_cl.head(50)\n",
    "data_click_cl.isnull().sum()\n"
   ]
  },
  {
   "cell_type": "code",
   "execution_count": null,
   "metadata": {},
   "outputs": [],
   "source": [
    "import nltk\n",
    "#nltk.download()\n",
    "from nltk.tokenize import word_tokenize\n",
    "from nltk.corpus import stopwords"
   ]
  },
  {
   "cell_type": "code",
   "execution_count": null,
   "metadata": {},
   "outputs": [],
   "source": [
    "data_click_token= data_click_cl.apply(lambda x: x.str.split())\n",
    "#data_click_cl= data_click_cl['title_id_0'].apply(word_tokenize)\n",
    "# tokenized_q=tokenized_q.to_list()\n",
    "# tokenized_r=tokenized_r.to_list()\n",
    "# tokenized=tokenized.to_list()\n",
    "# print(tokenized[0:10])\n",
    "# quer_tokens_click = [word for word in tokenized if word not in stopwords.words('english')]\n",
    "#data_click_token.reset_index()"
   ]
  },
  {
   "cell_type": "code",
   "execution_count": null,
   "metadata": {},
   "outputs": [],
   "source": [
    "data_click_token.head()\n",
    "data_click_token.info()"
   ]
  },
  {
   "cell_type": "code",
   "execution_count": null,
   "metadata": {},
   "outputs": [],
   "source": [
    "from os.path import join\n",
    "\n",
    "import matplotlib.pyplot as plt\n",
    "%matplotlib inline\n",
    "\n",
    "import gensim\n",
    "import numpy as np\n",
    "import scipy as sp\n"
   ]
  },
  {
   "cell_type": "code",
   "execution_count": null,
   "metadata": {},
   "outputs": [],
   "source": [
    "#embeddings_dict = {}\n",
    "import codecs\n",
    "glove_file='C:\\\\Users\\\\Romina\\\\Desktop\\\\thesis\\\\glove.6B.300d.txt'\n"
   ]
  },
  {
   "cell_type": "code",
   "execution_count": null,
   "metadata": {},
   "outputs": [],
   "source": [
    "import time\n",
    "from gensim.scripts.glove2word2vec import glove2word2vec\n",
    "#from pyemd import emd\n",
    "from gensim.similarities import WmdSimilarity"
   ]
  },
  {
   "cell_type": "code",
   "execution_count": null,
   "metadata": {},
   "outputs": [],
   "source": [
    "glove_input_file = glove_file\n",
    "word2vec_output_file = 'glove.6B.300d.txt.word2vec'\n",
    "glove2word2vec(glove_input_file, word2vec_output_file)"
   ]
  },
  {
   "cell_type": "code",
   "execution_count": null,
   "metadata": {},
   "outputs": [],
   "source": [
    "from gensim.models import KeyedVectors\n",
    "# load the Stanford GloVe model\n",
    "filename = 'glove.6B.300d.txt.word2vec'\n",
    "model = KeyedVectors.load_word2vec_format(filename, binary=False)"
   ]
  },
  {
   "cell_type": "code",
   "execution_count": null,
   "metadata": {},
   "outputs": [],
   "source": [
    "start = time.time()\n",
    "model.init_sims(replace=True)\n",
    "data_click_distance=[]\n",
    "for i in range(0,data_click_token.shape[0]):\n",
    "    distance_0= model.wmdistance(data_click_token.iloc[i,0],data_click_token.iloc[i,1])\n",
    "    #data_click_token.loc[i,'distance_1'] = model.wmdistance(data_click_cl.iloc[i,0],data_click_cl.iloc[i,2])\n",
    "    #data_click_token.loc[i,'distance_2'] = model.wmdistance(data_click_cl.iloc[i,0],data_click_cl.iloc[i,3])\n",
    "    #data_click_token.loc[i,'distance_3'] = model.wmdistance(data_click_cl.iloc[i,0],data_click_cl.iloc[i,4])\n",
    "    #data_click_token.loc[i,'distance_4'] = model.wmdistance(data_click_cl.iloc[i,0],data_click_cl.iloc[i,5])\n",
    "    data_click_distance.append(distance_0)\n",
    "#print ('distance = %.4f' % distance)\n",
    "\n",
    "print ('Cell took %.2f seconds to run.' %(time.time() - start))"
   ]
  },
  {
   "cell_type": "code",
   "execution_count": null,
   "metadata": {},
   "outputs": [],
   "source": [
    "data_click_token['distance_0']=data_click_distance\n",
    "#data_click_token.info()\n",
    "\n",
    "data_click_cl['distance_0']=data_click_distance\n",
    "data_click_cl.head()\n",
    "#data_click_cl.to_csv(\"tessst.csv\")"
   ]
  },
  {
   "cell_type": "code",
   "execution_count": null,
   "metadata": {},
   "outputs": [],
   "source": [
    "data_click_cl['distance_0'].describe()"
   ]
  },
  {
   "cell_type": "code",
   "execution_count": null,
   "metadata": {},
   "outputs": [],
   "source": [
    "data_click_Nodistance_cl = data_click_cl[data_click_cl['distance_0'].isin([np.nan, np.inf])]\n",
    "#                                               # .isinf() or data_click_distance['distance_0'].isnull()]\n",
    "#df[~df.isin([np.nan, np.inf, -np.inf])                                              \n",
    "# print(data_click_Nodistance_cl)\n",
    "data_click_Nodistance_cl.head(30)\n",
    "#data_click_Nodistance_cl.to_csv('data_click_Nodistance_cl_v2.csv')\n",
    "data_click_Nodistance_cl.info()                                        "
   ]
  },
  {
   "cell_type": "code",
   "execution_count": null,
   "metadata": {},
   "outputs": [],
   "source": [
    "import math\n",
    "\n",
    "#print(data_click_distance)\n",
    "#data_click_token.to_csv(\"click_Distance.csv\")\n",
    "data_click_distance_cl = [v for v in data_click_distance if not (math.isinf(v) or math.isnan(v) or v==0)]\n",
    "#print(data_click_distance_cl)\n",
    "len(data_click_distance_cl)\n",
    "data_click_distance_cl.sort()\n",
    "print(data_click_distance_cl)\n",
    "print(a)"
   ]
  },
  {
   "cell_type": "code",
   "execution_count": null,
   "metadata": {},
   "outputs": [],
   "source": [
    "pip install -U seaborn"
   ]
  },
  {
   "cell_type": "code",
   "execution_count": null,
   "metadata": {},
   "outputs": [],
   "source": [
    "from matplotlib import pyplot\n",
    "\n",
    "import matplotlib.pyplot as plt\n",
    "%matplotlib inline\n",
    "import seaborn as sns\n",
    "\n",
    "# mean=df[' rating'].mean()\n",
    "# median=df[' rating'].median()\n",
    "plt.figure(figsize=(8,5))\n",
    "#x='data_click_distance_cl',binwidth=3\n",
    "ax=sns.distplot(data_click_distance_cl, kde=True);\n",
    "plt.axvline(np.median(data_click_distance_cl), color='b', linestyle='--')\n",
    "plt.axvline(np.mean(data_click_distance_cl), color='r', linestyle='--')\n",
    "\n",
    "plt.legend({'Median':np.median(data_click_distance_cl), 'Mean':np.mean(data_click_distance_cl)})\n",
    "ax.set(xlabel='Distance', ylabel='Density')\n",
    "# pyplot.hist(y, bins, alpha=0.5, label='y')\n",
    "# pyplot.legend(loc='upper right')\n",
    "#pyplot.show()"
   ]
  },
  {
   "cell_type": "code",
   "execution_count": null,
   "metadata": {},
   "outputs": [],
   "source": [
    "#sessions without click\n",
    "data_noclick= data[data['portal_view'].isnull()]\n",
    "\n",
    "data_noclick=data_noclick[['session_no','q','title_id_0','final_sub0','final_sub1', \n",
    "                           #'final_sub2','final_sub3','final_sub4',  'final_sub5',\n",
    "                           'title_id_2','title_id_3', 'title_id_4' ]].set_index('session_no')\n",
    "data_noclick.info()"
   ]
  },
  {
   "cell_type": "code",
   "execution_count": null,
   "metadata": {},
   "outputs": [],
   "source": [
    "data_noclick_cl=data_processor(data_noclick)\n",
    "data_noclick_cl.info()"
   ]
  },
  {
   "cell_type": "code",
   "execution_count": null,
   "metadata": {},
   "outputs": [],
   "source": [
    "data_noclick_cl=data_noclick_cl.dropna(subset=['q','title_id_0'])\n",
    "data_noclick_cl.head(50)\n",
    "data_noclick_cl.isnull().sum()"
   ]
  },
  {
   "cell_type": "code",
   "execution_count": null,
   "metadata": {},
   "outputs": [],
   "source": [
    "data_noclick_token= data_noclick_cl.apply(lambda x: x.str.split())\n",
    "data_noclick_token.info()"
   ]
  },
  {
   "cell_type": "code",
   "execution_count": null,
   "metadata": {},
   "outputs": [],
   "source": [
    "start = time.time()\n",
    "data_noclick_distance=[]\n",
    "for i in range(0,data_noclick_token.shape[0]):\n",
    "    distance_0= model.wmdistance(data_noclick_token.iloc[i,0],data_noclick_token.iloc[i,1])\n",
    "    #data_click_token.loc[i,'distance_1'] = model.wmdistance(data_click_cl.iloc[i,0],data_click_cl.iloc[i,2])\n",
    "    #data_click_token.loc[i,'distance_2'] = model.wmdistance(data_click_cl.iloc[i,0],data_click_cl.iloc[i,3])\n",
    "    #data_click_token.loc[i,'distance_3'] = model.wmdistance(data_click_cl.iloc[i,0],data_click_cl.iloc[i,4])\n",
    "    #data_click_token.loc[i,'distance_4'] = model.wmdistance(data_click_cl.iloc[i,0],data_click_cl.iloc[i,5])\n",
    "    data_noclick_distance.append(distance_0)\n",
    "#print ('distance = %.4f' % distance)\n",
    "\n",
    "print ('Cell took %.2f seconds to run.' %(time.time() - start))"
   ]
  },
  {
   "cell_type": "code",
   "execution_count": null,
   "metadata": {},
   "outputs": [],
   "source": [
    "print(data_noclick_distance)\n",
    "data_noclick_distance.sort()\n",
    "print(data_noclick_distance)\n",
    "#data_noclick_token.shape[0]"
   ]
  },
  {
   "cell_type": "code",
   "execution_count": null,
   "metadata": {
    "scrolled": true
   },
   "outputs": [],
   "source": [
    "data_noclick_cl['distance_0']=data_noclick_distance\n",
    "#data_noclick_cl.to_csv(\"noclick.csv\")\n",
    "data_noclick_cl.head(30)"
   ]
  },
  {
   "cell_type": "code",
   "execution_count": null,
   "metadata": {},
   "outputs": [],
   "source": [
    "distances=pd.concat([data_noclick_cl[['distance_0','final_sub0']],data_click_cl[['distance_0','final_sub0']]])\n",
    "distances.info()\n",
    "distances.head()\n",
    "distances.to_csv(\"distances_session30-normalised.csv\")"
   ]
  },
  {
   "cell_type": "code",
   "execution_count": null,
   "metadata": {},
   "outputs": [],
   "source": [
    "data_noclick_Nodistance_cl = data_noclick_cl[data_noclick_cl['distance_0'].isin([np.nan, np.inf] )]\n",
    "#                                               # .isinf() or data_click_distance['distance_0'].isnull()]\n",
    "#df[~df.isin([np.nan, np.inf, -np.inf])                                              \n",
    "\n",
    "# data_noclick_Nodistance_cl.head(30)\n",
    "#data_noclick_Nodistance_cl.to_csv('data_noclick_Nodistance_cl_v2.csv')\n",
    "#data_noclick_Nodistance_cl.info()    "
   ]
  },
  {
   "cell_type": "code",
   "execution_count": null,
   "metadata": {},
   "outputs": [],
   "source": [
    "data_noclick_distance_cl = [v for v in data_noclick_distance if not (math.isinf(v) or math.isnan(v) or v==0)]\n",
    "#print(data_noclick_distance_cl)\n",
    "len(data_noclick_distance_cl)\n",
    "print(data_noclick_distance_cl)"
   ]
  },
  {
   "cell_type": "code",
   "execution_count": null,
   "metadata": {},
   "outputs": [],
   "source": [
    "from matplotlib import pyplot\n",
    "\n",
    "import matplotlib.pyplot as plt\n",
    "%matplotlib inline\n",
    "import seaborn as sns\n",
    "\n",
    "# mean=df[' rating'].mean()\n",
    "# median=df[' rating'].median()\n",
    "plt.figure(figsize=(8,5))\n",
    "ax=sns.distplot(data_noclick_distance_cl, kde=True);\n",
    "plt.axvline(np.median(data_noclick_distance_cl), color='b', linestyle='--')\n",
    "plt.axvline(np.mean(data_noclick_distance_cl), color='r', linestyle='--')\n",
    "\n",
    "plt.legend({'Median':np.median(data_noclick_distance_cl), 'Mean':np.mean(data_noclick_distance_cl)})\n",
    "ax.set(xlabel='Distance', ylabel='Density')\n",
    "# pyplot.hist(y, bins, alpha=0.5, label='y')\n",
    "# pyplot.legend(loc='upper right')\n",
    "#pyplot.show()"
   ]
  },
  {
   "cell_type": "code",
   "execution_count": null,
   "metadata": {},
   "outputs": [],
   "source": [
    "data_click_distance_cl = pd.Series(data_click_distance_cl) \n",
    "data_noclick_distance_cl = pd.Series(data_noclick_distance_cl) \n",
    "print(data_click_distance_cl.mean())\n",
    "print(data_noclick_distance_cl.mean())\n",
    "print(len(data_click_distance_cl))\n",
    "print(len(data_noclick_distance_cl))"
   ]
  },
  {
   "cell_type": "code",
   "execution_count": null,
   "metadata": {},
   "outputs": [],
   "source": [
    "from scipy import stats\n",
    "from scipy.stats import levene\n",
    "statistic, p_value = levene(data_click_distance_cl, data_noclick_distance_cl, center='mean')\n",
    "print(statistic, p_value)\n"
   ]
  },
  {
   "cell_type": "code",
   "execution_count": null,
   "metadata": {},
   "outputs": [],
   "source": [
    "tStat, pValue = stats.ttest_ind(data_click_distance_cl, data_noclick_distance_cl, equal_var =False ) #run independent sample T-Test\n",
    "print(\"P-Value:{0} T-Statistic:{1}\".format(pValue,tStat)) #print the P-Value and the T-Statistic\n"
   ]
  },
  {
   "cell_type": "code",
   "execution_count": null,
   "metadata": {},
   "outputs": [],
   "source": [
    "from statistics import mean, stdev\n",
    "from math import sqrt\n",
    "\n",
    "# test conditions\n",
    "\n",
    "cohens_d = (mean(data_click_distance_cl) - mean(data_noclick_distance_cl)) / (sqrt((stdev(data_click_distance_cl) ** 2 + stdev(data_noclick_distance_cl) ** 2) / 2))\n",
    "\n",
    "print(cohens_d)"
   ]
  },
  {
   "cell_type": "code",
   "execution_count": null,
   "metadata": {},
   "outputs": [],
   "source": [
    "#merge this now to the query topics data on topic to append the top 3 category- for the sessions with click first\n",
    "data_click_Nodistance_cl.head()"
   ]
  },
  {
   "cell_type": "code",
   "execution_count": null,
   "metadata": {},
   "outputs": [],
   "source": []
  }
 ],
 "metadata": {
  "kernelspec": {
   "display_name": "Python 3",
   "language": "python",
   "name": "python3"
  },
  "language_info": {
   "codemirror_mode": {
    "name": "ipython",
    "version": 3
   },
   "file_extension": ".py",
   "mimetype": "text/x-python",
   "name": "python",
   "nbconvert_exporter": "python",
   "pygments_lexer": "ipython3",
   "version": "3.7.6"
  }
 },
 "nbformat": 4,
 "nbformat_minor": 4
}
